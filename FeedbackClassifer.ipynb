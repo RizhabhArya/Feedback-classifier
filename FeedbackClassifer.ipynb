{
 "cells": [
  {
   "cell_type": "code",
   "execution_count": 7,
   "id": "1c365f40-e190-4812-8409-f351ad480190",
   "metadata": {},
   "outputs": [
    {
     "name": "stdout",
     "output_type": "stream",
     "text": [
      "Requirement already satisfied: transformers in d:\\anaconda\\lib\\site-packages (4.52.4)\n",
      "Requirement already satisfied: filelock in d:\\anaconda\\lib\\site-packages (from transformers) (3.13.1)\n",
      "Requirement already satisfied: huggingface-hub<1.0,>=0.30.0 in d:\\anaconda\\lib\\site-packages (from transformers) (0.32.4)\n",
      "Requirement already satisfied: numpy>=1.17 in d:\\anaconda\\lib\\site-packages (from transformers) (1.26.4)\n",
      "Requirement already satisfied: packaging>=20.0 in d:\\anaconda\\lib\\site-packages (from transformers) (24.1)\n",
      "Requirement already satisfied: pyyaml>=5.1 in d:\\anaconda\\lib\\site-packages (from transformers) (6.0.1)\n",
      "Requirement already satisfied: regex!=2019.12.17 in d:\\anaconda\\lib\\site-packages (from transformers) (2024.9.11)\n",
      "Requirement already satisfied: requests in d:\\anaconda\\lib\\site-packages (from transformers) (2.32.3)\n",
      "Requirement already satisfied: tokenizers<0.22,>=0.21 in d:\\anaconda\\lib\\site-packages (from transformers) (0.21.1)\n",
      "Requirement already satisfied: safetensors>=0.4.3 in d:\\anaconda\\lib\\site-packages (from transformers) (0.5.3)\n",
      "Requirement already satisfied: tqdm>=4.27 in d:\\anaconda\\lib\\site-packages (from transformers) (4.66.5)\n",
      "Requirement already satisfied: fsspec>=2023.5.0 in d:\\anaconda\\lib\\site-packages (from huggingface-hub<1.0,>=0.30.0->transformers) (2024.6.1)\n",
      "Requirement already satisfied: typing-extensions>=3.7.4.3 in d:\\anaconda\\lib\\site-packages (from huggingface-hub<1.0,>=0.30.0->transformers) (4.11.0)\n",
      "Requirement already satisfied: colorama in d:\\anaconda\\lib\\site-packages (from tqdm>=4.27->transformers) (0.4.6)\n",
      "Requirement already satisfied: charset-normalizer<4,>=2 in d:\\anaconda\\lib\\site-packages (from requests->transformers) (3.3.2)\n",
      "Requirement already satisfied: idna<4,>=2.5 in d:\\anaconda\\lib\\site-packages (from requests->transformers) (3.7)\n",
      "Requirement already satisfied: urllib3<3,>=1.21.1 in d:\\anaconda\\lib\\site-packages (from requests->transformers) (2.2.3)\n",
      "Requirement already satisfied: certifi>=2017.4.17 in d:\\anaconda\\lib\\site-packages (from requests->transformers) (2025.1.31)\n"
     ]
    }
   ],
   "source": [
    "!pip install transformers"
   ]
  },
  {
   "cell_type": "code",
   "execution_count": 8,
   "id": "60ce86d4-3134-489d-86ce-077e6b55013c",
   "metadata": {},
   "outputs": [
    {
     "name": "stdout",
     "output_type": "stream",
     "text": [
      "Accuracy: 0.8\n",
      "\n",
      "Confusion Matrix:\n",
      " [[1 0 2]\n",
      " [0 4 0]\n",
      " [0 0 3]]\n",
      "\n",
      "Classification Report:\n",
      "                 precision    recall  f1-score   support\n",
      "\n",
      "     Academics       1.00      0.33      0.50         3\n",
      "Administration       0.60      1.00      0.75         3\n",
      "    Facilities       1.00      1.00      1.00         4\n",
      "\n",
      "      accuracy                           0.80        10\n",
      "     macro avg       0.87      0.78      0.75        10\n",
      "  weighted avg       0.88      0.80      0.78        10\n",
      "\n",
      "\n",
      "Sample Mismatches:\n",
      "                                          Feedback PredictedCategory  \\\n",
      "3  Professors don't respond to doubts after class.    Administration   \n",
      "9   Assignments are too frequent and disorganized.    Administration   \n",
      "\n",
      "  TrueCategory  \n",
      "3    Academics  \n",
      "9    Academics  \n"
     ]
    }
   ],
   "source": [
    "import pandas as pd\n",
    "from sklearn.metrics import accuracy_score, confusion_matrix, classification_report\n",
    "\n",
    "\n",
    "df = pd.read_csv(\"classified_feedback.csv\")\n",
    "\n",
    "\n",
    "df['PredictedCategory'] = df['PredictedCategory'].str.strip().str.capitalize()\n",
    "df['PredictedCategory'] = df['PredictedCategory'].replace({\"Facility\": \"Facilities\"})\n",
    "\n",
    "\n",
    "true_labels = [\n",
    "    \"Academics\",\n",
    "    \"Facilities\",\n",
    "    \"Administration\",\n",
    "    \"Academics\",\n",
    "    \"Facilities\",\n",
    "    \"Administration\",\n",
    "    \"Facilities\",\n",
    "    \"Facilities\",\n",
    "    \"Administration\",\n",
    "    \"Academics\"\n",
    "]\n",
    "df[\"TrueCategory\"] = true_labels\n",
    "\n",
    "\n",
    "y_true = df[\"TrueCategory\"]\n",
    "y_pred = df[\"PredictedCategory\"]\n",
    "\n",
    "print(\"Accuracy:\", accuracy_score(y_true, y_pred))\n",
    "print(\"\\nConfusion Matrix:\\n\", confusion_matrix(y_true, y_pred, labels=[\"Academics\", \"Facilities\", \"Administration\"]))\n",
    "print(\"\\nClassification Report:\\n\", classification_report(y_true, y_pred))\n",
    "\n",
    "print(\"\\nSample Mismatches:\")\n",
    "print(df[df['TrueCategory'] != df['PredictedCategory']][['Feedback', 'PredictedCategory', 'TrueCategory']])\n",
    "\n",
    "\n",
    "df.to_csv(\"evaluated_feedback.csv\", index=False)\n"
   ]
  },
  {
   "cell_type": "code",
   "execution_count": null,
   "id": "933089bb-c96d-43b8-97d0-b45488853a7c",
   "metadata": {},
   "outputs": [],
   "source": []
  }
 ],
 "metadata": {
  "kernelspec": {
   "display_name": "Python 3 (ipykernel)",
   "language": "python",
   "name": "python3"
  },
  "language_info": {
   "codemirror_mode": {
    "name": "ipython",
    "version": 3
   },
   "file_extension": ".py",
   "mimetype": "text/x-python",
   "name": "python",
   "nbconvert_exporter": "python",
   "pygments_lexer": "ipython3",
   "version": "3.12.3"
  }
 },
 "nbformat": 4,
 "nbformat_minor": 5
}
